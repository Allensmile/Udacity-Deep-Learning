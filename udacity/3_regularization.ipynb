{
 "cells": [
  {
   "cell_type": "markdown",
   "metadata": {
    "colab_type": "text",
    "id": "kR-4eNdK6lYS"
   },
   "source": [
    "Deep Learning\n",
    "=============\n",
    "\n",
    "Assignment 3\n",
    "------------\n",
    "\n",
    "Previously in `2_fullyconnected.ipynb`, you trained a logistic regression and a neural network model.\n",
    "\n",
    "The goal of this assignment is to explore regularization techniques."
   ]
  },
  {
   "cell_type": "code",
   "execution_count": 1,
   "metadata": {
    "cellView": "both",
    "colab": {
     "autoexec": {
      "startup": false,
      "wait_interval": 0
     }
    },
    "colab_type": "code",
    "collapsed": true,
    "id": "JLpLa8Jt7Vu4"
   },
   "outputs": [],
   "source": [
    "# These are all the modules we'll be using later. Make sure you can import them\n",
    "# before proceeding further.\n",
    "import cPickle as pickle\n",
    "import numpy as np\n",
    "import tensorflow as tf"
   ]
  },
  {
   "cell_type": "markdown",
   "metadata": {
    "colab_type": "text",
    "id": "1HrCK6e17WzV"
   },
   "source": [
    "First reload the data we generated in _notmist.ipynb_."
   ]
  },
  {
   "cell_type": "code",
   "execution_count": 2,
   "metadata": {
    "cellView": "both",
    "colab": {
     "autoexec": {
      "startup": false,
      "wait_interval": 0
     },
     "output_extras": [
      {
       "item_id": 1
      }
     ]
    },
    "colab_type": "code",
    "collapsed": false,
    "executionInfo": {
     "elapsed": 11777,
     "status": "ok",
     "timestamp": 1449849322348,
     "user": {
      "color": "",
      "displayName": "",
      "isAnonymous": false,
      "isMe": true,
      "permissionId": "",
      "photoUrl": "",
      "sessionId": "0",
      "userId": ""
     },
     "user_tz": 480
    },
    "id": "y3-cj1bpmuxc",
    "outputId": "e03576f1-ebbe-4838-c388-f1777bcc9873"
   },
   "outputs": [
    {
     "name": "stdout",
     "output_type": "stream",
     "text": [
      "Training set (200000, 28, 28) (200000,)\n",
      "Validation set (10000, 28, 28) (10000,)\n",
      "Test set (18724, 28, 28) (18724,)\n"
     ]
    }
   ],
   "source": [
    "pickle_file = 'notMNIST.pickle'\n",
    "\n",
    "with open(pickle_file, 'rb') as f:\n",
    "    save = pickle.load(f)\n",
    "    train_dataset = save['train_dataset']\n",
    "    train_labels = save['train_labels']\n",
    "    valid_dataset = save['valid_dataset']\n",
    "    valid_labels = save['valid_labels']\n",
    "    test_dataset = save['test_dataset']\n",
    "    test_labels = save['test_labels']\n",
    "    del save  # hint to help gc free up memory\n",
    "    print 'Training set', train_dataset.shape, train_labels.shape\n",
    "    print 'Validation set', valid_dataset.shape, valid_labels.shape\n",
    "    print 'Test set', test_dataset.shape, test_labels.shape"
   ]
  },
  {
   "cell_type": "markdown",
   "metadata": {
    "colab_type": "text",
    "id": "L7aHrm6nGDMB"
   },
   "source": [
    "Reformat into a shape that's more adapted to the models we're going to train:\n",
    "- data as a flat matrix,\n",
    "- labels as float 1-hot encodings."
   ]
  },
  {
   "cell_type": "code",
   "execution_count": 3,
   "metadata": {
    "cellView": "both",
    "colab": {
     "autoexec": {
      "startup": false,
      "wait_interval": 0
     },
     "output_extras": [
      {
       "item_id": 1
      }
     ]
    },
    "colab_type": "code",
    "collapsed": false,
    "executionInfo": {
     "elapsed": 11728,
     "status": "ok",
     "timestamp": 1449849322356,
     "user": {
      "color": "",
      "displayName": "",
      "isAnonymous": false,
      "isMe": true,
      "permissionId": "",
      "photoUrl": "",
      "sessionId": "0",
      "userId": ""
     },
     "user_tz": 480
    },
    "id": "IRSyYiIIGIzS",
    "outputId": "3f8996ee-3574-4f44-c953-5c8a04636582"
   },
   "outputs": [
    {
     "name": "stdout",
     "output_type": "stream",
     "text": [
      "Training set (200000, 784) (200000, 10)\n",
      "Validation set (10000, 784) (10000, 10)\n",
      "Test set (18724, 784) (18724, 10)\n"
     ]
    }
   ],
   "source": [
    "image_size = 28\n",
    "num_labels = 10\n",
    "\n",
    "def reformat(dataset, labels):\n",
    "    dataset = dataset.reshape((-1, image_size * image_size)).astype(np.float32)\n",
    "    # Map 2 to [0.0, 1.0, 0.0 ...], 3 to [0.0, 0.0, 1.0 ...]\n",
    "    labels = (np.arange(num_labels) == labels[:,None]).astype(np.float32)\n",
    "    return dataset, labels\n",
    "train_dataset, train_labels = reformat(train_dataset, train_labels)\n",
    "valid_dataset, valid_labels = reformat(valid_dataset, valid_labels)\n",
    "test_dataset, test_labels = reformat(test_dataset, test_labels)\n",
    "print 'Training set', train_dataset.shape, train_labels.shape\n",
    "print 'Validation set', valid_dataset.shape, valid_labels.shape\n",
    "print 'Test set', test_dataset.shape, test_labels.shape"
   ]
  },
  {
   "cell_type": "code",
   "execution_count": 4,
   "metadata": {
    "cellView": "both",
    "colab": {
     "autoexec": {
      "startup": false,
      "wait_interval": 0
     }
    },
    "colab_type": "code",
    "collapsed": true,
    "id": "RajPLaL_ZW6w"
   },
   "outputs": [],
   "source": [
    "def accuracy(predictions, labels):\n",
    "  return (100.0 * np.sum(np.argmax(predictions, 1) == np.argmax(labels, 1))\n",
    "          / predictions.shape[0])"
   ]
  },
  {
   "cell_type": "markdown",
   "metadata": {
    "colab_type": "text",
    "id": "sgLbUAQ1CW-1"
   },
   "source": [
    "---\n",
    "Problem 1\n",
    "---------\n",
    "\n",
    "Introduce and tune L2 regularization for both logistic and neural network models. Remember that L2 amounts to adding a penalty on the norm of the weights to the loss. In TensorFlow, you can compue the L2 loss for a tensor `t` using `nn.l2_loss(t)`. The right amount of regularization should improve your validation / test accuracy.\n",
    "\n",
    "---"
   ]
  },
  {
   "cell_type": "code",
   "execution_count": 49,
   "metadata": {
    "collapsed": false
   },
   "outputs": [],
   "source": [
    "batch_size = 100\n",
    "n_hidden = 1024\n",
    "L2_weight = 0.5e-3\n",
    "\n",
    "\n",
    "def forward(tf_X):\n",
    "    \"\"\"\n",
    "    assert tf.shape(tf_X)[1] == image_size*image_size,\\\n",
    "        \"Training data not of correct shape. Each input should be of shape: %s\" % (image_size*image_size)\n",
    "    \"\"\"\n",
    "    with tf.name_scope('hidden1'):\n",
    "        weights = tf.Variable(tf.truncated_normal([image_size*image_size, n_hidden]), name=\"weights\")\n",
    "        biases = tf.Variable(tf.zeros([n_hidden]), name=\"biases\")\n",
    "        z01 = tf.matmul(tf_X, weights) + biases\n",
    "        hidden1 = tf.nn.relu(z01)\n",
    "        l2_reg_01 = tf.nn.l2_loss(weights)\n",
    "    with tf.name_scope('z12'):\n",
    "        weights = tf.Variable(tf.truncated_normal([n_hidden, num_labels]), name=\"weights\")\n",
    "        biases = tf.Variable(tf.zeros([num_labels]), name=\"biases\")\n",
    "        z12 = tf.matmul(hidden1, weights) + biases\n",
    "        l2_reg_12 = tf.nn.l2_loss(weights)\n",
    "    return z12, l2_reg_01+l2_reg_12\n",
    "\n",
    "# Define loss\n",
    "def get_loss(z12, l2_loss, tf_Y):\n",
    "    \"\"\"\n",
    "    assert tf.shape(tf_X)[1] == image_size*image_size,\\\n",
    "        \"Training data not of correct shape. got %s require %s\" % (tf.shape(tf_X)[1], image_size*image_size)\n",
    "    assert tf.shape(tf_Y)[1] == num_labels,\\\n",
    "        \"Training data not of correct shape. got %s require %s\" % (tf.shape(tf_Y)[1], num_labels)\n",
    "    \"\"\"\n",
    "    loss = tf.reduce_mean(tf.nn.softmax_cross_entropy_with_logits(z12, tf_training_labels))\n",
    "    total_loss = loss #+ L2_weight*l2_loss\n",
    "    return total_loss\n",
    "\n",
    "# Define the network graph\n",
    "graph = tf.Graph()\n",
    "with graph.as_default():\n",
    "    #tf_training_dataset = tf.placeholder(tf.float32, shape=(batch_size, image_size*image_size))\n",
    "    #tf_training_labels = tf.placeholder(tf.float32, shape=(batch_size, num_labels))\n",
    "    tf_training_dataset = tf.placeholder(tf.float32) # Should have shape (batch_size, image_size*image_size)\n",
    "    tf_training_labels = tf.placeholder(tf.float32) # Should have shape (batch_size, num_labels)\n",
    "    \n",
    "    z12, l2_loss = forward(tf_training_dataset)\n",
    "    total_loss = get_loss(z12, l2_loss, tf_training_labels)\n",
    "    optimizer = tf.train.GradientDescentOptimizer(0.5).minimize(total_loss)\n",
    "    "
   ]
  },
  {
   "cell_type": "code",
   "execution_count": 57,
   "metadata": {
    "collapsed": false
   },
   "outputs": [
    {
     "name": "stdout",
     "output_type": "stream",
     "text": [
      "Initialized, using batch size: 100\n",
      "Updated batch size: 100\n",
      "Minibatch loss at step 0 : 278.257\n",
      "Minibatch accuracy: 13.0%\n",
      "Validation accuracy: 32.8%\n",
      "Updated batch size: 100\n",
      "Minibatch loss at step 500 : 15.5628\n",
      "Minibatch accuracy: 87.0%\n",
      "Validation accuracy: 77.1%\n",
      "Updated batch size: 100\n",
      "Minibatch loss at step 1000 : 30.539\n",
      "Minibatch accuracy: 78.0%\n",
      "Validation accuracy: 77.2%\n",
      "Updated batch size: 100\n",
      "Minibatch loss at step 1500 : 15.8107\n",
      "Minibatch accuracy: 82.0%\n",
      "Validation accuracy: 78.5%\n",
      "Updated batch size: 100\n",
      "Minibatch loss at step 2000 : 12.5125\n",
      "Minibatch accuracy: 77.0%\n",
      "Validation accuracy: 79.4%\n",
      "Updated batch size: 100\n",
      "Minibatch loss at step 2500 : 6.22763\n",
      "Minibatch accuracy: 83.0%\n",
      "Validation accuracy: 80.6%\n",
      "Updated batch size: 100\n",
      "Minibatch loss at step 3000 : 4.98556\n",
      "Minibatch accuracy: 74.0%\n",
      "Validation accuracy: 80.7%\n",
      "Test accuracy: 87.6%\n"
     ]
    }
   ],
   "source": [
    "# train the model\n",
    "num_steps = 3001\n",
    "batch_size = 100\n",
    "with tf.Session(graph=graph) as session:\n",
    "    tf.initialize_all_variables().run()\n",
    "    print \"Initialized, using batch size: %s\" % batch_size\n",
    "    for step in xrange(num_steps):\n",
    "        idx = np.random.randint(train_dataset.shape[0], size=batch_size)\n",
    "        #offset = (step * batch_size) % (train_labels.shape[0] - batch_size)\n",
    "        # Generate a minibatch.\n",
    "        batch_data = train_dataset[idx]\n",
    "        batch_labels = train_labels[idx]\n",
    "        #batch_data = train_dataset[offset:(offset + batch_size), :]\n",
    "        #batch_labels = train_labels[offset:(offset + batch_size), :]\n",
    "        feed_dict = {tf_training_dataset : batch_data, tf_training_labels : batch_labels}\n",
    "        _, l, predictions = session.run([optimizer, total_loss, z12], feed_dict=feed_dict)\n",
    "        if (step % 500 == 0):\n",
    "            #batch_size += 100\n",
    "            print \"Updated batch size: %s\" % batch_size\n",
    "            print \"Minibatch loss at step\", step, \":\", l\n",
    "            print \"Minibatch accuracy: %.1f%%\" % accuracy(predictions, batch_labels)\n",
    "            predictions = session.run(z12, feed_dict={tf_training_dataset: valid_dataset})\n",
    "            print \"Validation accuracy: %.1f%%\" % accuracy(predictions, valid_labels)\n",
    "    predictions = session.run(z12, feed_dict={tf_training_dataset: test_dataset})\n",
    "    print \"Test accuracy: %.1f%%\" % accuracy(predictions, test_labels)\n",
    "        \n",
    "    "
   ]
  },
  {
   "cell_type": "code",
   "execution_count": 58,
   "metadata": {
    "collapsed": false
   },
   "outputs": [
    {
     "data": {
      "text/plain": [
       "(200000, 784)"
      ]
     },
     "execution_count": 58,
     "metadata": {},
     "output_type": "execute_result"
    }
   ],
   "source": [
    "train_dataset.shape"
   ]
  },
  {
   "cell_type": "markdown",
   "metadata": {
    "colab_type": "text",
    "id": "na8xX2yHZzNF"
   },
   "source": [
    "---\n",
    "Problem 2\n",
    "---------\n",
    "Let's demonstrate an extreme case of overfitting. Restrict your training data to just a few batches. What happens?\n",
    "\n",
    "---"
   ]
  },
  {
   "cell_type": "code",
   "execution_count": 59,
   "metadata": {
    "collapsed": false
   },
   "outputs": [
    {
     "name": "stdout",
     "output_type": "stream",
     "text": [
      "Initialized, using batch size: 100\n",
      "Updated batch size: 100\n",
      "Minibatch loss at step 0 : 343.88\n",
      "Minibatch accuracy: 17.0%\n",
      "Validation accuracy: 22.1%\n",
      "Updated batch size: 100\n",
      "Minibatch loss at step 500 : 0.151362\n",
      "Minibatch accuracy: 98.0%\n",
      "Validation accuracy: 78.4%\n",
      "Updated batch size: 100\n",
      "Minibatch loss at step 1000 : 0.0158547\n",
      "Minibatch accuracy: 99.0%\n",
      "Validation accuracy: 78.5%\n",
      "Updated batch size: 100\n",
      "Minibatch loss at step 1500 : 0.0\n",
      "Minibatch accuracy: 100.0%\n",
      "Validation accuracy: 78.8%\n",
      "Updated batch size: 100\n",
      "Minibatch loss at step 2000 : 2.07879e-06\n",
      "Minibatch accuracy: 100.0%\n",
      "Validation accuracy: 78.6%\n",
      "Updated batch size: 100\n",
      "Minibatch loss at step 2500 : 0.0\n",
      "Minibatch accuracy: 100.0%\n",
      "Validation accuracy: 78.7%\n",
      "Updated batch size: 100\n",
      "Minibatch loss at step 3000 : 0.0\n",
      "Minibatch accuracy: 100.0%\n",
      "Validation accuracy: 78.8%\n",
      "Test accuracy: 86.5%\n"
     ]
    }
   ],
   "source": [
    "# Overfitting using very small subset of data\n",
    "num_steps = 3001\n",
    "batch_size = 100\n",
    "with tf.Session(graph=graph) as session:\n",
    "    tf.initialize_all_variables().run()\n",
    "    print \"Initialized, using batch size: %s\" % batch_size\n",
    "    for step in xrange(num_steps):\n",
    "        idx = np.random.randint(train_dataset.shape[0]/100, size=batch_size)\n",
    "        #offset = (step * batch_size) % (train_labels.shape[0] - batch_size)\n",
    "        # Generate a minibatch.\n",
    "        batch_data = train_dataset[idx]\n",
    "        batch_labels = train_labels[idx]\n",
    "        #batch_data = train_dataset[offset:(offset + batch_size), :]\n",
    "        #batch_labels = train_labels[offset:(offset + batch_size), :]\n",
    "        feed_dict = {tf_training_dataset : batch_data, tf_training_labels : batch_labels}\n",
    "        _, l, predictions = session.run([optimizer, total_loss, z12], feed_dict=feed_dict)\n",
    "        if (step % 500 == 0):\n",
    "            #batch_size += 100\n",
    "            print \"Updated batch size: %s\" % batch_size\n",
    "            print \"Minibatch loss at step\", step, \":\", l\n",
    "            print \"Minibatch accuracy: %.1f%%\" % accuracy(predictions, batch_labels)\n",
    "            predictions = session.run(z12, feed_dict={tf_training_dataset: valid_dataset})\n",
    "            print \"Validation accuracy: %.1f%%\" % accuracy(predictions, valid_labels)\n",
    "    predictions = session.run(z12, feed_dict={tf_training_dataset: test_dataset})\n",
    "    print \"Test accuracy: %.1f%%\" % accuracy(predictions, test_labels)\n",
    "        \n",
    "    "
   ]
  },
  {
   "cell_type": "markdown",
   "metadata": {
    "colab_type": "text",
    "id": "ww3SCBUdlkRc"
   },
   "source": [
    "---\n",
    "Problem 3\n",
    "---------\n",
    "Introduce Dropout on the hidden layer of the neural network. Remember: Dropout should only be introduced during training, not evaluation, otherwise your evaluation results would be stochastic as well. TensorFlow provides `nn.dropout()` for that, but you have to make sure it's only inserted during training.\n",
    "\n",
    "What happens to our extreme overfitting case?\n",
    "\n",
    "---"
   ]
  },
  {
   "cell_type": "code",
   "execution_count": 67,
   "metadata": {
    "collapsed": true
   },
   "outputs": [],
   "source": [
    "batch_size = 100\n",
    "n_hidden = 1024\n",
    "L2_weight = 0.5e-3\n",
    "\n",
    "def forward(tf_X, dropout_p):\n",
    "    \"\"\"\n",
    "    assert tf.shape(tf_X)[1] == image_size*image_size,\\\n",
    "        \"Training data not of correct shape. Each input should be of shape: %s\" % (image_size*image_size)\n",
    "    \"\"\"\n",
    "    with tf.name_scope('hidden1'):\n",
    "        weights = tf.Variable(tf.truncated_normal([image_size*image_size, n_hidden]), name=\"weights\")\n",
    "        biases = tf.Variable(tf.zeros([n_hidden]), name=\"biases\")\n",
    "        z01 = tf.matmul(tf_X, tf.nn.dropout(weights, dropout_p)) + biases\n",
    "        hidden1 = tf.nn.relu(z01)\n",
    "        l2_reg_01 = tf.nn.l2_loss(weights)\n",
    "    with tf.name_scope('z12'):\n",
    "        weights = tf.Variable(tf.truncated_normal([n_hidden, num_labels]), name=\"weights\")\n",
    "        biases = tf.Variable(tf.zeros([num_labels]), name=\"biases\")\n",
    "        z12 = tf.matmul(hidden1, weights) + biases # NEVER USE DROPOUT ON LAST LAYER\n",
    "        l2_reg_12 = tf.nn.l2_loss(weights)\n",
    "    return z12, l2_reg_01+l2_reg_12\n",
    "\n",
    "# Define loss\n",
    "def get_loss(z12, l2_loss, tf_Y):\n",
    "    \"\"\"\n",
    "    assert tf.shape(tf_X)[1] == image_size*image_size,\\\n",
    "        \"Training data not of correct shape. got %s require %s\" % (tf.shape(tf_X)[1], image_size*image_size)\n",
    "    assert tf.shape(tf_Y)[1] == num_labels,\\\n",
    "        \"Training data not of correct shape. got %s require %s\" % (tf.shape(tf_Y)[1], num_labels)\n",
    "    \"\"\"\n",
    "    loss = tf.reduce_mean(tf.nn.softmax_cross_entropy_with_logits(z12, tf_training_labels))\n",
    "    total_loss = loss #+ L2_weight*l2_loss\n",
    "    return total_loss\n",
    "\n",
    "# Define the network graph\n",
    "tf.python.framework.ops.reset_default_graph()\n",
    "graph = tf.Graph()\n",
    "with graph.as_default():\n",
    "    #tf_training_dataset = tf.placeholder(tf.float32, shape=(batch_size, image_size*image_size))\n",
    "    #tf_training_labels = tf.placeholder(tf.float32, shape=(batch_size, num_labels))\n",
    "    tf_training_dataset = tf.placeholder(tf.float32) # Should have shape (batch_size, image_size*image_size)\n",
    "    tf_training_labels = tf.placeholder(tf.float32) # Should have shape (batch_size, num_labels)\n",
    "    dropout_p = tf.placeholder(tf.float32)\n",
    "    \n",
    "    z12, l2_loss = forward(tf_training_dataset, dropout_p)\n",
    "    total_loss = get_loss(z12, l2_loss, tf_training_labels)\n",
    "    optimizer = tf.train.GradientDescentOptimizer(0.5).minimize(total_loss)"
   ]
  },
  {
   "cell_type": "code",
   "execution_count": 68,
   "metadata": {
    "collapsed": false
   },
   "outputs": [
    {
     "name": "stdout",
     "output_type": "stream",
     "text": [
      "Initialized, using batch size: 100\n",
      "Updated batch size: 100\n",
      "Minibatch loss at step 0 : 377.01\n",
      "Minibatch accuracy: 32.0%\n",
      "Validation accuracy: 19.6%\n",
      "Updated batch size: 100\n",
      "Minibatch loss at step 500 : 67.7987\n",
      "Minibatch accuracy: 87.0%\n",
      "Validation accuracy: 76.5%\n",
      "Updated batch size: 100\n",
      "Minibatch loss at step 1000 : 36.1366\n",
      "Minibatch accuracy: 84.0%\n",
      "Validation accuracy: 78.5%\n",
      "Updated batch size: 100\n",
      "Minibatch loss at step 1500 : 31.1877\n",
      "Minibatch accuracy: 83.0%\n",
      "Validation accuracy: 78.9%\n",
      "Updated batch size: 100\n",
      "Minibatch loss at step 2000 : 16.6507\n",
      "Minibatch accuracy: 85.0%\n",
      "Validation accuracy: 78.4%\n",
      "Updated batch size: 100\n",
      "Minibatch loss at step 2500 : 31.9195\n",
      "Minibatch accuracy: 73.0%\n",
      "Validation accuracy: 76.6%\n",
      "Updated batch size: 100\n",
      "Minibatch loss at step 3000 : 50.2246\n",
      "Minibatch accuracy: 81.0%\n",
      "Validation accuracy: 76.9%\n",
      "Test accuracy: 84.7%\n"
     ]
    }
   ],
   "source": [
    "# train the model\n",
    "num_steps = 3001\n",
    "batch_size = 100\n",
    "with tf.Session(graph=graph) as session:\n",
    "    tf.initialize_all_variables().run()\n",
    "    print \"Initialized, using batch size: %s\" % batch_size\n",
    "    for step in xrange(num_steps):\n",
    "        idx = np.random.randint(train_dataset.shape[0], size=batch_size)\n",
    "        #offset = (step * batch_size) % (train_labels.shape[0] - batch_size)\n",
    "        # Generate a minibatch.\n",
    "        batch_data = train_dataset[idx]\n",
    "        batch_labels = train_labels[idx]\n",
    "        #batch_data = train_dataset[offset:(offset + batch_size), :]\n",
    "        #batch_labels = train_labels[offset:(offset + batch_size), :]\n",
    "        feed_dict = {tf_training_dataset : batch_data, tf_training_labels : batch_labels, dropout_p: 0.5}\n",
    "        _, l = session.run([optimizer, total_loss], feed_dict=feed_dict)\n",
    "        predictions = session.run(z12, feed_dict={tf_training_dataset: batch_data, dropout_p: 1})\n",
    "        if (step % 500 == 0):\n",
    "            #batch_size += 100\n",
    "            print \"Updated batch size: %s\" % batch_size\n",
    "            print \"Minibatch loss at step\", step, \":\", l\n",
    "            print \"Minibatch accuracy: %.1f%%\" % accuracy(predictions, batch_labels)\n",
    "            predictions = session.run(z12, feed_dict={tf_training_dataset: valid_dataset, dropout_p: 1})\n",
    "            print \"Validation accuracy: %.1f%%\" % accuracy(predictions, valid_labels)\n",
    "    predictions = session.run(z12, feed_dict={tf_training_dataset: test_dataset, dropout_p: 1})\n",
    "    print \"Test accuracy: %.1f%%\" % accuracy(predictions, test_labels)\n",
    "        \n",
    "\n",
    "        "
   ]
  },
  {
   "cell_type": "code",
   "execution_count": 69,
   "metadata": {
    "collapsed": false
   },
   "outputs": [
    {
     "name": "stdout",
     "output_type": "stream",
     "text": [
      "Initialized, using batch size: 100\n",
      "Updated batch size: 100\n",
      "Minibatch loss at step 0 : 478.766\n",
      "Minibatch accuracy: 44.0%\n",
      "Validation accuracy: 29.6%\n",
      "Updated batch size: 100\n",
      "Minibatch loss at step 500 : 2.97874\n",
      "Minibatch accuracy: 98.0%\n",
      "Validation accuracy: 80.2%\n",
      "Updated batch size: 100\n",
      "Minibatch loss at step 1000 : 6.14865\n",
      "Minibatch accuracy: 97.0%\n",
      "Validation accuracy: 79.6%\n",
      "Updated batch size: 100\n",
      "Minibatch loss at step 1500 : 3.33054\n",
      "Minibatch accuracy: 100.0%\n",
      "Validation accuracy: 81.0%\n",
      "Updated batch size: 100\n",
      "Minibatch loss at step 2000 : 0.352523\n",
      "Minibatch accuracy: 100.0%\n",
      "Validation accuracy: 80.6%\n",
      "Updated batch size: 100\n",
      "Minibatch loss at step 2500 : 7.5045\n",
      "Minibatch accuracy: 100.0%\n",
      "Validation accuracy: 80.8%\n",
      "Updated batch size: 100\n",
      "Minibatch loss at step 3000 : 0.0056987\n",
      "Minibatch accuracy: 100.0%\n",
      "Validation accuracy: 80.7%\n",
      "Test accuracy: 88.0%\n"
     ]
    }
   ],
   "source": [
    "# train the model using smaller sample resulting in overfitting\n",
    "num_steps = 3001\n",
    "batch_size = 100\n",
    "with tf.Session(graph=graph) as session:\n",
    "    tf.initialize_all_variables().run()\n",
    "    print \"Initialized, using batch size: %s\" % batch_size\n",
    "    for step in xrange(num_steps):\n",
    "        idx = np.random.randint(train_dataset[:2000].shape[0], size=batch_size)\n",
    "        #offset = (step * batch_size) % (train_labels.shape[0] - batch_size)\n",
    "        # Generate a minibatch.\n",
    "        batch_data = train_dataset[:2000][idx]\n",
    "        batch_labels = train_labels[:2000][idx]\n",
    "        #batch_data = train_dataset[offset:(offset + batch_size), :]\n",
    "        #batch_labels = train_labels[offset:(offset + batch_size), :]\n",
    "        feed_dict = {tf_training_dataset : batch_data, tf_training_labels : batch_labels, dropout_p: 0.5}\n",
    "        _, l = session.run([optimizer, total_loss], feed_dict=feed_dict)\n",
    "        predictions = session.run(z12, feed_dict={tf_training_dataset: batch_data, dropout_p: 1})\n",
    "        if (step % 500 == 0):\n",
    "            #batch_size += 100\n",
    "            print \"Updated batch size: %s\" % batch_size\n",
    "            print \"Minibatch loss at step\", step, \":\", l\n",
    "            print \"Minibatch accuracy: %.1f%%\" % accuracy(predictions, batch_labels)\n",
    "            predictions = session.run(z12, feed_dict={tf_training_dataset: valid_dataset, dropout_p: 1})\n",
    "            print \"Validation accuracy: %.1f%%\" % accuracy(predictions, valid_labels)\n",
    "    predictions = session.run(z12, feed_dict={tf_training_dataset: test_dataset, dropout_p: 1})\n",
    "    print \"Test accuracy: %.1f%%\" % accuracy(predictions, test_labels)\n",
    "        "
   ]
  },
  {
   "cell_type": "markdown",
   "metadata": {
    "colab_type": "text",
    "id": "-b1hTz3VWZjw"
   },
   "source": [
    "---\n",
    "Problem 4\n",
    "---------\n",
    "\n",
    "Try to get the best performance you can using a multi-layer model! The best reported test accuracy using a deep network is [97.1%](http://yaroslavvb.blogspot.com/2011/09/notmnist-dataset.html?showComment=1391023266211#c8758720086795711595).\n",
    "\n",
    "One avenue you can explore is to add multiple layers.\n",
    "\n",
    "Another one is to use learning rate decay:\n",
    "\n",
    "    global_step = tf.Variable(0)  # count the number of steps taken.\n",
    "    learning_rate = tf.train.exponential_decay(0.5, step, ...)\n",
    "    optimizer = tf.train.GradientDescentOptimizer(learning_rate).minimize(loss, global_step=global_step)\n",
    " \n",
    " ---\n"
   ]
  }
 ],
 "metadata": {
  "colabVersion": "0.3.2",
  "colab_default_view": {},
  "colab_views": {},
  "kernelspec": {
   "display_name": "Python 2",
   "language": "python",
   "name": "python2"
  },
  "language_info": {
   "codemirror_mode": {
    "name": "ipython",
    "version": 2
   },
   "file_extension": ".py",
   "mimetype": "text/x-python",
   "name": "python",
   "nbconvert_exporter": "python",
   "pygments_lexer": "ipython2",
   "version": "2.7.6"
  }
 },
 "nbformat": 4,
 "nbformat_minor": 0
}
